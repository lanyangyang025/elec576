{
 "cells": [
  {
   "cell_type": "code",
   "execution_count": 1,
   "metadata": {
    "collapsed": true
   },
   "outputs": [],
   "source": [
    "import numpy as np\n",
    "import scipy.linalg"
   ]
  },
  {
   "cell_type": "code",
   "execution_count": 2,
   "metadata": {},
   "outputs": [
    {
     "name": "stdout",
     "output_type": "stream",
     "text": [
      "[[ 1.  2.  3.]\n",
      " [ 4.  5.  6.]]\n"
     ]
    }
   ],
   "source": [
    "a = np.array([[1.,2.,3.], [4.,5.,6.]])\n",
    "print a"
   ]
  },
  {
   "cell_type": "code",
   "execution_count": 3,
   "metadata": {},
   "outputs": [
    {
     "data": {
      "text/plain": [
       "2"
      ]
     },
     "execution_count": 3,
     "metadata": {},
     "output_type": "execute_result"
    }
   ],
   "source": [
    "np.ndim(a)   #a.ndim"
   ]
  },
  {
   "cell_type": "code",
   "execution_count": 4,
   "metadata": {},
   "outputs": [
    {
     "data": {
      "text/plain": [
       "6"
      ]
     },
     "execution_count": 4,
     "metadata": {},
     "output_type": "execute_result"
    }
   ],
   "source": [
    "np.size(a)     #a.size"
   ]
  },
  {
   "cell_type": "code",
   "execution_count": 5,
   "metadata": {},
   "outputs": [
    {
     "data": {
      "text/plain": [
       "(2, 3)"
      ]
     },
     "execution_count": 5,
     "metadata": {},
     "output_type": "execute_result"
    }
   ],
   "source": [
    "np.shape(a)   #a.shape"
   ]
  },
  {
   "cell_type": "code",
   "execution_count": 6,
   "metadata": {},
   "outputs": [
    {
     "name": "stdout",
     "output_type": "stream",
     "text": [
      "hstack([a,b]): [[ 1.  2.  3.  1.  2.]\n",
      " [ 4.  5.  6.  3.  4.]]\n",
      "np.hstack([c,d]): [[ 1.1  1.2  2.1  2.2  2.3]\n",
      " [ 1.3  1.4  2.4  2.5  2.6]\n",
      " [ 1.5  1.6  2.7  2.8  2.9]]\n",
      "result: [[ 1.   2.   3.   1.   2. ]\n",
      " [ 4.   5.   6.   3.   4. ]\n",
      " [ 1.1  1.2  2.1  2.2  2.3]\n",
      " [ 1.3  1.4  2.4  2.5  2.6]\n",
      " [ 1.5  1.6  2.7  2.8  2.9]]\n"
     ]
    }
   ],
   "source": [
    "b = np.array([[1.,2.],[3.,4.]])\n",
    "print \"hstack([a,b]): \"+str(np.hstack([a,b]))\n",
    "c = np.array([[1.1, 1.2], [1.3, 1.4], [1.5, 1.6]])\n",
    "d = np.array([[2.1,2.2,2.3],[2.4,2.5,2.6],[2.7,2.8,2.9]])\n",
    "print \"np.hstack([c,d]): \"+str(np.hstack([c,d]))\n",
    "print \"result: \"+str(np.vstack([np.hstack([a,b]), np.hstack([c,d])]))"
   ]
  },
  {
   "cell_type": "code",
   "execution_count": 7,
   "metadata": {},
   "outputs": [
    {
     "name": "stdout",
     "output_type": "stream",
     "text": [
      "[[ 1.   2.   3.   1.   2. ]\n",
      " [ 4.   5.   6.   3.   4. ]\n",
      " [ 1.1  1.2  2.1  2.2  2.3]\n",
      " [ 1.3  1.4  2.4  2.5  2.6]\n",
      " [ 1.5  1.6  2.7  2.8  2.9]]\n"
     ]
    }
   ],
   "source": [
    "a = np.vstack([np.hstack([a,b]), np.hstack([c,d])])\n",
    "print a"
   ]
  },
  {
   "cell_type": "code",
   "execution_count": 8,
   "metadata": {},
   "outputs": [
    {
     "data": {
      "text/plain": [
       "array([ 1.5,  1.6,  2.7,  2.8,  2.9])"
      ]
     },
     "execution_count": 8,
     "metadata": {},
     "output_type": "execute_result"
    }
   ],
   "source": [
    "a[-1]"
   ]
  },
  {
   "cell_type": "code",
   "execution_count": 9,
   "metadata": {},
   "outputs": [
    {
     "data": {
      "text/plain": [
       "6.0"
      ]
     },
     "execution_count": 9,
     "metadata": {},
     "output_type": "execute_result"
    }
   ],
   "source": [
    "a[1,2]"
   ]
  },
  {
   "cell_type": "code",
   "execution_count": 10,
   "metadata": {},
   "outputs": [
    {
     "data": {
      "text/plain": [
       "array([ 4.,  5.,  6.,  3.,  4.])"
      ]
     },
     "execution_count": 10,
     "metadata": {},
     "output_type": "execute_result"
    }
   ],
   "source": [
    "a[1]"
   ]
  },
  {
   "cell_type": "code",
   "execution_count": 11,
   "metadata": {},
   "outputs": [
    {
     "data": {
      "text/plain": [
       "array([[ 1.,  2.,  3.,  1.,  2.],\n",
       "       [ 4.,  5.,  6.,  3.,  4.]])"
      ]
     },
     "execution_count": 11,
     "metadata": {},
     "output_type": "execute_result"
    }
   ],
   "source": [
    "a[0:2]"
   ]
  },
  {
   "cell_type": "code",
   "execution_count": 12,
   "metadata": {},
   "outputs": [
    {
     "data": {
      "text/plain": [
       "array([[ 1.3,  1.4,  2.4,  2.5,  2.6],\n",
       "       [ 1.5,  1.6,  2.7,  2.8,  2.9]])"
      ]
     },
     "execution_count": 12,
     "metadata": {},
     "output_type": "execute_result"
    }
   ],
   "source": [
    "a[-2:]"
   ]
  },
  {
   "cell_type": "code",
   "execution_count": 13,
   "metadata": {},
   "outputs": [
    {
     "data": {
      "text/plain": [
       "array([[ 2. ,  3. ,  1. ],\n",
       "       [ 5. ,  6. ,  3. ],\n",
       "       [ 1.2,  2.1,  2.2]])"
      ]
     },
     "execution_count": 13,
     "metadata": {},
     "output_type": "execute_result"
    }
   ],
   "source": [
    "a[0:3][:,1:4]"
   ]
  },
  {
   "cell_type": "code",
   "execution_count": 14,
   "metadata": {},
   "outputs": [
    {
     "data": {
      "text/plain": [
       "array([[ 1. ,  3. ],\n",
       "       [ 4. ,  6. ],\n",
       "       [ 1.3,  2.4]])"
      ]
     },
     "execution_count": 14,
     "metadata": {},
     "output_type": "execute_result"
    }
   ],
   "source": [
    "a[np.ix_([0,1,3],[0,2])]"
   ]
  },
  {
   "cell_type": "code",
   "execution_count": 15,
   "metadata": {},
   "outputs": [
    {
     "data": {
      "text/plain": [
       "array([[ 4. ,  5. ,  6. ,  3. ,  4. ],\n",
       "       [ 1.3,  1.4,  2.4,  2.5,  2.6]])"
      ]
     },
     "execution_count": 15,
     "metadata": {},
     "output_type": "execute_result"
    }
   ],
   "source": [
    "a[ 1:5:2,:]"
   ]
  },
  {
   "cell_type": "code",
   "execution_count": 16,
   "metadata": {},
   "outputs": [
    {
     "data": {
      "text/plain": [
       "array([[ 1. ,  2. ,  3. ,  1. ,  2. ],\n",
       "       [ 1.1,  1.2,  2.1,  2.2,  2.3],\n",
       "       [ 1.5,  1.6,  2.7,  2.8,  2.9]])"
      ]
     },
     "execution_count": 16,
     "metadata": {},
     "output_type": "execute_result"
    }
   ],
   "source": [
    "a[ ::2,:]"
   ]
  },
  {
   "cell_type": "code",
   "execution_count": 17,
   "metadata": {},
   "outputs": [
    {
     "data": {
      "text/plain": [
       "array([[ 1.5,  1.6,  2.7,  2.8,  2.9],\n",
       "       [ 1.3,  1.4,  2.4,  2.5,  2.6],\n",
       "       [ 1.1,  1.2,  2.1,  2.2,  2.3],\n",
       "       [ 4. ,  5. ,  6. ,  3. ,  4. ],\n",
       "       [ 1. ,  2. ,  3. ,  1. ,  2. ]])"
      ]
     },
     "execution_count": 17,
     "metadata": {},
     "output_type": "execute_result"
    }
   ],
   "source": [
    "a[ ::-1,:]"
   ]
  },
  {
   "cell_type": "code",
   "execution_count": 18,
   "metadata": {},
   "outputs": [
    {
     "data": {
      "text/plain": [
       "array([[ 1. ,  2. ,  3. ,  1. ,  2. ],\n",
       "       [ 4. ,  5. ,  6. ,  3. ,  4. ],\n",
       "       [ 1.1,  1.2,  2.1,  2.2,  2.3],\n",
       "       [ 1.3,  1.4,  2.4,  2.5,  2.6],\n",
       "       [ 1.5,  1.6,  2.7,  2.8,  2.9],\n",
       "       [ 1. ,  2. ,  3. ,  1. ,  2. ]])"
      ]
     },
     "execution_count": 18,
     "metadata": {},
     "output_type": "execute_result"
    }
   ],
   "source": [
    "a[np.r_[:len(a),0]]"
   ]
  },
  {
   "cell_type": "code",
   "execution_count": 19,
   "metadata": {},
   "outputs": [
    {
     "data": {
      "text/plain": [
       "array([[ 1. ,  4. ,  1.1,  1.3,  1.5],\n",
       "       [ 2. ,  5. ,  1.2,  1.4,  1.6],\n",
       "       [ 3. ,  6. ,  2.1,  2.4,  2.7],\n",
       "       [ 1. ,  3. ,  2.2,  2.5,  2.8],\n",
       "       [ 2. ,  4. ,  2.3,  2.6,  2.9]])"
      ]
     },
     "execution_count": 19,
     "metadata": {},
     "output_type": "execute_result"
    }
   ],
   "source": [
    "a.transpose()"
   ]
  },
  {
   "cell_type": "code",
   "execution_count": 20,
   "metadata": {},
   "outputs": [
    {
     "data": {
      "text/plain": [
       "array([[ 1. ,  4. ,  1.1,  1.3,  1.5],\n",
       "       [ 2. ,  5. ,  1.2,  1.4,  1.6],\n",
       "       [ 3. ,  6. ,  2.1,  2.4,  2.7],\n",
       "       [ 1. ,  3. ,  2.2,  2.5,  2.8],\n",
       "       [ 2. ,  4. ,  2.3,  2.6,  2.9]])"
      ]
     },
     "execution_count": 20,
     "metadata": {},
     "output_type": "execute_result"
    }
   ],
   "source": [
    "a.conj().transpose()"
   ]
  },
  {
   "cell_type": "code",
   "execution_count": 21,
   "metadata": {},
   "outputs": [
    {
     "name": "stdout",
     "output_type": "stream",
     "text": [
      "a: [[ 1.   2.   3.   1.   2. ]\n",
      " [ 4.   5.   6.   3.   4. ]\n",
      " [ 1.1  1.2  2.1  2.2  2.3]\n",
      " [ 1.3  1.4  2.4  2.5  2.6]\n",
      " [ 1.5  1.6  2.7  2.8  2.9]]\n"
     ]
    },
    {
     "data": {
      "text/plain": [
       "array([ 18. ,  44. ,  17.8,  20.4,  23. ])"
      ]
     },
     "execution_count": 21,
     "metadata": {},
     "output_type": "execute_result"
    }
   ],
   "source": [
    "print \"a: \"+str(a)\n",
    "b = np.array([2,2,2,2,2])\n",
    "a.dot(b)"
   ]
  },
  {
   "cell_type": "code",
   "execution_count": 22,
   "metadata": {},
   "outputs": [
    {
     "data": {
      "text/plain": [
       "array([[  2. ,   4. ,   6. ,   2. ,   4. ],\n",
       "       [  8. ,  10. ,  12. ,   6. ,   8. ],\n",
       "       [  2.2,   2.4,   4.2,   4.4,   4.6],\n",
       "       [  2.6,   2.8,   4.8,   5. ,   5.2],\n",
       "       [  3. ,   3.2,   5.4,   5.6,   5.8]])"
      ]
     },
     "execution_count": 22,
     "metadata": {},
     "output_type": "execute_result"
    }
   ],
   "source": [
    "a * b"
   ]
  },
  {
   "cell_type": "code",
   "execution_count": 23,
   "metadata": {},
   "outputs": [
    {
     "data": {
      "text/plain": [
       "array([[ 0.5 ,  1.  ,  1.5 ,  0.5 ,  1.  ],\n",
       "       [ 2.  ,  2.5 ,  3.  ,  1.5 ,  2.  ],\n",
       "       [ 0.55,  0.6 ,  1.05,  1.1 ,  1.15],\n",
       "       [ 0.65,  0.7 ,  1.2 ,  1.25,  1.3 ],\n",
       "       [ 0.75,  0.8 ,  1.35,  1.4 ,  1.45]])"
      ]
     },
     "execution_count": 23,
     "metadata": {},
     "output_type": "execute_result"
    }
   ],
   "source": [
    "a/b"
   ]
  },
  {
   "cell_type": "code",
   "execution_count": 24,
   "metadata": {},
   "outputs": [
    {
     "data": {
      "text/plain": [
       "array([[   1.   ,    8.   ,   27.   ,    1.   ,    8.   ],\n",
       "       [  64.   ,  125.   ,  216.   ,   27.   ,   64.   ],\n",
       "       [   1.331,    1.728,    9.261,   10.648,   12.167],\n",
       "       [   2.197,    2.744,   13.824,   15.625,   17.576],\n",
       "       [   3.375,    4.096,   19.683,   21.952,   24.389]])"
      ]
     },
     "execution_count": 24,
     "metadata": {},
     "output_type": "execute_result"
    }
   ],
   "source": [
    "a**3"
   ]
  },
  {
   "cell_type": "code",
   "execution_count": 25,
   "metadata": {},
   "outputs": [
    {
     "data": {
      "text/plain": [
       "array([[False, False,  True, False, False],\n",
       "       [ True,  True,  True,  True,  True],\n",
       "       [False, False,  True,  True,  True],\n",
       "       [False, False,  True,  True,  True],\n",
       "       [False, False,  True,  True,  True]], dtype=bool)"
      ]
     },
     "execution_count": 25,
     "metadata": {},
     "output_type": "execute_result"
    }
   ],
   "source": [
    "(a>2)"
   ]
  },
  {
   "cell_type": "code",
   "execution_count": 26,
   "metadata": {},
   "outputs": [
    {
     "data": {
      "text/plain": [
       "(array([0, 1, 1, 1, 1, 1, 2, 2, 2, 3, 3, 3, 4, 4, 4]),\n",
       " array([2, 0, 1, 2, 3, 4, 2, 3, 4, 2, 3, 4, 2, 3, 4]))"
      ]
     },
     "execution_count": 26,
     "metadata": {},
     "output_type": "execute_result"
    }
   ],
   "source": [
    "np.nonzero(a>2)"
   ]
  },
  {
   "cell_type": "code",
   "execution_count": 27,
   "metadata": {},
   "outputs": [
    {
     "name": "stdout",
     "output_type": "stream",
     "text": [
      "[[ 0.1  0.8  0.5]\n",
      " [ 0.7  0.5  0.2]]\n"
     ]
    }
   ],
   "source": [
    "v = np.array([[0.1, 0.8, 0.5],[0.7,0.5,0.2]])\n",
    "print v"
   ]
  },
  {
   "cell_type": "code",
   "execution_count": 28,
   "metadata": {},
   "outputs": [
    {
     "data": {
      "text/plain": [
       "array([[ 1. ,  2. ],\n",
       "       [ 4. ,  5. ],\n",
       "       [ 1.1,  1.2],\n",
       "       [ 1.3,  1.4],\n",
       "       [ 1.5,  1.6]])"
      ]
     },
     "execution_count": 28,
     "metadata": {},
     "output_type": "execute_result"
    }
   ],
   "source": [
    "a[:,np.nonzero(v>0.5)[0]]"
   ]
  },
  {
   "cell_type": "code",
   "execution_count": 29,
   "metadata": {},
   "outputs": [
    {
     "name": "stdout",
     "output_type": "stream",
     "text": [
      "[[ 0.   2.   3.   0.   2. ]\n",
      " [ 4.   5.   6.   3.   4. ]\n",
      " [ 0.   0.   2.1  2.2  2.3]\n",
      " [ 0.   0.   2.4  2.5  2.6]\n",
      " [ 1.5  1.6  2.7  2.8  2.9]]\n"
     ]
    }
   ],
   "source": [
    "a[a<1.5]=0\n",
    "print a"
   ]
  },
  {
   "cell_type": "code",
   "execution_count": 30,
   "metadata": {},
   "outputs": [
    {
     "data": {
      "text/plain": [
       "array([[ 0. ,  2. ,  3. ,  0. ,  2. ],\n",
       "       [ 4. ,  5. ,  6. ,  3. ,  4. ],\n",
       "       [ 0. ,  0. ,  2.1,  2.2,  2.3],\n",
       "       [ 0. ,  0. ,  2.4,  2.5,  2.6],\n",
       "       [ 1.5,  1.6,  2.7,  2.8,  2.9]])"
      ]
     },
     "execution_count": 30,
     "metadata": {},
     "output_type": "execute_result"
    }
   ],
   "source": [
    "a * (a>0.5)"
   ]
  },
  {
   "cell_type": "code",
   "execution_count": 31,
   "metadata": {},
   "outputs": [
    {
     "name": "stdout",
     "output_type": "stream",
     "text": [
      "[[ 3.  3.  3.  3.  3.]\n",
      " [ 3.  3.  3.  3.  3.]\n",
      " [ 3.  3.  3.  3.  3.]\n",
      " [ 3.  3.  3.  3.  3.]\n",
      " [ 3.  3.  3.  3.  3.]]\n"
     ]
    }
   ],
   "source": [
    "temp = a.copy()\n",
    "temp[:] = 3\n",
    "print temp"
   ]
  },
  {
   "cell_type": "code",
   "execution_count": 32,
   "metadata": {},
   "outputs": [
    {
     "name": "stdout",
     "output_type": "stream",
     "text": [
      "[ 0.   2.   3.   0.   2.   4.   5.   6.   3.   4.   0.   0.   2.1  2.2  2.3\n",
      "  0.   0.   2.4  2.5  2.6  1.5  1.6  2.7  2.8  2.9]\n"
     ]
    }
   ],
   "source": [
    "temp = a.flatten()\n",
    "print temp"
   ]
  },
  {
   "cell_type": "code",
   "execution_count": 33,
   "metadata": {},
   "outputs": [
    {
     "data": {
      "text/plain": [
       "array([  1.,   2.,   3.,   4.,   5.,   6.,   7.,   8.,   9.,  10.])"
      ]
     },
     "execution_count": 33,
     "metadata": {},
     "output_type": "execute_result"
    }
   ],
   "source": [
    "np.arange(1.,11.)"
   ]
  },
  {
   "cell_type": "code",
   "execution_count": 34,
   "metadata": {},
   "outputs": [
    {
     "data": {
      "text/plain": [
       "array([ 0.,  1.,  2.,  3.,  4.,  5.,  6.,  7.,  8.,  9.])"
      ]
     },
     "execution_count": 34,
     "metadata": {},
     "output_type": "execute_result"
    }
   ],
   "source": [
    "np.arange(10.)"
   ]
  },
  {
   "cell_type": "code",
   "execution_count": 35,
   "metadata": {},
   "outputs": [
    {
     "data": {
      "text/plain": [
       "array([[  1.],\n",
       "       [  2.],\n",
       "       [  3.],\n",
       "       [  4.],\n",
       "       [  5.],\n",
       "       [  6.],\n",
       "       [  7.],\n",
       "       [  8.],\n",
       "       [  9.],\n",
       "       [ 10.]])"
      ]
     },
     "execution_count": 35,
     "metadata": {},
     "output_type": "execute_result"
    }
   ],
   "source": [
    "np.arange(1.,11.)[:, np.newaxis]"
   ]
  },
  {
   "cell_type": "code",
   "execution_count": 36,
   "metadata": {},
   "outputs": [
    {
     "data": {
      "text/plain": [
       "array([[ 0.,  0.,  0.,  0.],\n",
       "       [ 0.,  0.,  0.,  0.],\n",
       "       [ 0.,  0.,  0.,  0.]])"
      ]
     },
     "execution_count": 36,
     "metadata": {},
     "output_type": "execute_result"
    }
   ],
   "source": [
    "np.\tzeros((3,4))"
   ]
  },
  {
   "cell_type": "code",
   "execution_count": 37,
   "metadata": {},
   "outputs": [
    {
     "data": {
      "text/plain": [
       "array([[[ 0.,  0.,  0.,  0.,  0.],\n",
       "        [ 0.,  0.,  0.,  0.,  0.],\n",
       "        [ 0.,  0.,  0.,  0.,  0.],\n",
       "        [ 0.,  0.,  0.,  0.,  0.]],\n",
       "\n",
       "       [[ 0.,  0.,  0.,  0.,  0.],\n",
       "        [ 0.,  0.,  0.,  0.,  0.],\n",
       "        [ 0.,  0.,  0.,  0.,  0.],\n",
       "        [ 0.,  0.,  0.,  0.,  0.]],\n",
       "\n",
       "       [[ 0.,  0.,  0.,  0.,  0.],\n",
       "        [ 0.,  0.,  0.,  0.,  0.],\n",
       "        [ 0.,  0.,  0.,  0.,  0.],\n",
       "        [ 0.,  0.,  0.,  0.,  0.]]])"
      ]
     },
     "execution_count": 37,
     "metadata": {},
     "output_type": "execute_result"
    }
   ],
   "source": [
    "np.zeros((3,4,5))"
   ]
  },
  {
   "cell_type": "code",
   "execution_count": 38,
   "metadata": {},
   "outputs": [
    {
     "data": {
      "text/plain": [
       "array([[ 1.,  1.,  1.,  1.],\n",
       "       [ 1.,  1.,  1.,  1.],\n",
       "       [ 1.,  1.,  1.,  1.]])"
      ]
     },
     "execution_count": 38,
     "metadata": {},
     "output_type": "execute_result"
    }
   ],
   "source": [
    "np.ones((3,4))"
   ]
  },
  {
   "cell_type": "code",
   "execution_count": 39,
   "metadata": {},
   "outputs": [
    {
     "data": {
      "text/plain": [
       "array([[ 1.,  0.,  0.],\n",
       "       [ 0.,  1.,  0.],\n",
       "       [ 0.,  0.,  1.]])"
      ]
     },
     "execution_count": 39,
     "metadata": {},
     "output_type": "execute_result"
    }
   ],
   "source": [
    "np.eye(3)"
   ]
  },
  {
   "cell_type": "code",
   "execution_count": 40,
   "metadata": {},
   "outputs": [
    {
     "data": {
      "text/plain": [
       "array([[ 0. ,  2. ,  3. ,  0. ,  2. ],\n",
       "       [ 4. ,  5. ,  6. ,  3. ,  4. ],\n",
       "       [ 0. ,  0. ,  2.1,  2.2,  2.3],\n",
       "       [ 0. ,  0. ,  2.4,  2.5,  2.6],\n",
       "       [ 1.5,  1.6,  2.7,  2.8,  2.9]])"
      ]
     },
     "execution_count": 40,
     "metadata": {},
     "output_type": "execute_result"
    }
   ],
   "source": [
    "a"
   ]
  },
  {
   "cell_type": "code",
   "execution_count": 41,
   "metadata": {},
   "outputs": [
    {
     "data": {
      "text/plain": [
       "array([ 0. ,  5. ,  2.1,  2.5,  2.9])"
      ]
     },
     "execution_count": 41,
     "metadata": {},
     "output_type": "execute_result"
    }
   ],
   "source": [
    "np.diag(a)"
   ]
  },
  {
   "cell_type": "code",
   "execution_count": 42,
   "metadata": {},
   "outputs": [
    {
     "data": {
      "text/plain": [
       "array([ 0. ,  5. ,  2.1,  2.5,  2.9])"
      ]
     },
     "execution_count": 42,
     "metadata": {},
     "output_type": "execute_result"
    }
   ],
   "source": [
    "np.diag(a,0)"
   ]
  },
  {
   "cell_type": "code",
   "execution_count": 43,
   "metadata": {},
   "outputs": [
    {
     "data": {
      "text/plain": [
       "array([[ 0.78514349,  0.8528791 ,  0.37633085,  0.09985496],\n",
       "       [ 0.48260466,  0.26515346,  0.63029861,  0.90512229],\n",
       "       [ 0.89709534,  0.62225965,  0.39720993,  0.99514208]])"
      ]
     },
     "execution_count": 43,
     "metadata": {},
     "output_type": "execute_result"
    }
   ],
   "source": [
    "np.random.rand(3,4)"
   ]
  },
  {
   "cell_type": "code",
   "execution_count": 44,
   "metadata": {},
   "outputs": [
    {
     "data": {
      "text/plain": [
       "array([ 1.        ,  1.66666667,  2.33333333,  3.        ])"
      ]
     },
     "execution_count": 44,
     "metadata": {},
     "output_type": "execute_result"
    }
   ],
   "source": [
    "np.linspace(1,3,4)"
   ]
  },
  {
   "cell_type": "code",
   "execution_count": 45,
   "metadata": {},
   "outputs": [
    {
     "data": {
      "text/plain": [
       "array([[[ 0.,  0.,  0.,  0.,  0.,  0.],\n",
       "        [ 1.,  1.,  1.,  1.,  1.,  1.],\n",
       "        [ 2.,  2.,  2.,  2.,  2.,  2.],\n",
       "        [ 3.,  3.,  3.,  3.,  3.,  3.],\n",
       "        [ 4.,  4.,  4.,  4.,  4.,  4.],\n",
       "        [ 5.,  5.,  5.,  5.,  5.,  5.],\n",
       "        [ 6.,  6.,  6.,  6.,  6.,  6.],\n",
       "        [ 7.,  7.,  7.,  7.,  7.,  7.],\n",
       "        [ 8.,  8.,  8.,  8.,  8.,  8.]],\n",
       "\n",
       "       [[ 0.,  1.,  2.,  3.,  4.,  5.],\n",
       "        [ 0.,  1.,  2.,  3.,  4.,  5.],\n",
       "        [ 0.,  1.,  2.,  3.,  4.,  5.],\n",
       "        [ 0.,  1.,  2.,  3.,  4.,  5.],\n",
       "        [ 0.,  1.,  2.,  3.,  4.,  5.],\n",
       "        [ 0.,  1.,  2.,  3.,  4.,  5.],\n",
       "        [ 0.,  1.,  2.,  3.,  4.,  5.],\n",
       "        [ 0.,  1.,  2.,  3.,  4.,  5.],\n",
       "        [ 0.,  1.,  2.,  3.,  4.,  5.]]])"
      ]
     },
     "execution_count": 45,
     "metadata": {},
     "output_type": "execute_result"
    }
   ],
   "source": [
    "np.mgrid[0:9.,0:6.]"
   ]
  },
  {
   "cell_type": "code",
   "execution_count": 46,
   "metadata": {},
   "outputs": [
    {
     "data": {
      "text/plain": [
       "[array([[ 0.],\n",
       "        [ 1.],\n",
       "        [ 2.],\n",
       "        [ 3.],\n",
       "        [ 4.],\n",
       "        [ 5.],\n",
       "        [ 6.],\n",
       "        [ 7.],\n",
       "        [ 8.]]), array([[ 0.,  1.,  2.,  3.,  4.,  5.]])]"
      ]
     },
     "execution_count": 46,
     "metadata": {},
     "output_type": "execute_result"
    }
   ],
   "source": [
    "np.ogrid[0:9.,0:6.] "
   ]
  },
  {
   "cell_type": "code",
   "execution_count": 47,
   "metadata": {},
   "outputs": [
    {
     "data": {
      "text/plain": [
       "[array([[1, 2, 4],\n",
       "        [1, 2, 4],\n",
       "        [1, 2, 4]]), array([[2, 2, 2],\n",
       "        [4, 4, 4],\n",
       "        [5, 5, 5]])]"
      ]
     },
     "execution_count": 47,
     "metadata": {},
     "output_type": "execute_result"
    }
   ],
   "source": [
    "np.meshgrid([1,2,4],[2,4,5])"
   ]
  },
  {
   "cell_type": "code",
   "execution_count": 48,
   "metadata": {},
   "outputs": [
    {
     "data": {
      "text/plain": [
       "array([[ 0. ,  2. ,  3. ,  0. ,  2. ,  0. ,  2. ,  3. ,  0. ,  2. ,  0. ,\n",
       "         2. ,  3. ,  0. ,  2. ],\n",
       "       [ 4. ,  5. ,  6. ,  3. ,  4. ,  4. ,  5. ,  6. ,  3. ,  4. ,  4. ,\n",
       "         5. ,  6. ,  3. ,  4. ],\n",
       "       [ 0. ,  0. ,  2.1,  2.2,  2.3,  0. ,  0. ,  2.1,  2.2,  2.3,  0. ,\n",
       "         0. ,  2.1,  2.2,  2.3],\n",
       "       [ 0. ,  0. ,  2.4,  2.5,  2.6,  0. ,  0. ,  2.4,  2.5,  2.6,  0. ,\n",
       "         0. ,  2.4,  2.5,  2.6],\n",
       "       [ 1.5,  1.6,  2.7,  2.8,  2.9,  1.5,  1.6,  2.7,  2.8,  2.9,  1.5,\n",
       "         1.6,  2.7,  2.8,  2.9],\n",
       "       [ 0. ,  2. ,  3. ,  0. ,  2. ,  0. ,  2. ,  3. ,  0. ,  2. ,  0. ,\n",
       "         2. ,  3. ,  0. ,  2. ],\n",
       "       [ 4. ,  5. ,  6. ,  3. ,  4. ,  4. ,  5. ,  6. ,  3. ,  4. ,  4. ,\n",
       "         5. ,  6. ,  3. ,  4. ],\n",
       "       [ 0. ,  0. ,  2.1,  2.2,  2.3,  0. ,  0. ,  2.1,  2.2,  2.3,  0. ,\n",
       "         0. ,  2.1,  2.2,  2.3],\n",
       "       [ 0. ,  0. ,  2.4,  2.5,  2.6,  0. ,  0. ,  2.4,  2.5,  2.6,  0. ,\n",
       "         0. ,  2.4,  2.5,  2.6],\n",
       "       [ 1.5,  1.6,  2.7,  2.8,  2.9,  1.5,  1.6,  2.7,  2.8,  2.9,  1.5,\n",
       "         1.6,  2.7,  2.8,  2.9]])"
      ]
     },
     "execution_count": 48,
     "metadata": {},
     "output_type": "execute_result"
    }
   ],
   "source": [
    "m = 2\n",
    "n = 3\n",
    "np.tile(a, (m, n))"
   ]
  },
  {
   "cell_type": "code",
   "execution_count": 49,
   "metadata": {},
   "outputs": [],
   "source": [
    "b = np.eye(5)"
   ]
  },
  {
   "cell_type": "code",
   "execution_count": 50,
   "metadata": {},
   "outputs": [
    {
     "data": {
      "text/plain": [
       "array([[ 0. ,  2. ,  3. ,  0. ,  2. ,  1. ,  0. ,  0. ,  0. ,  0. ],\n",
       "       [ 4. ,  5. ,  6. ,  3. ,  4. ,  0. ,  1. ,  0. ,  0. ,  0. ],\n",
       "       [ 0. ,  0. ,  2.1,  2.2,  2.3,  0. ,  0. ,  1. ,  0. ,  0. ],\n",
       "       [ 0. ,  0. ,  2.4,  2.5,  2.6,  0. ,  0. ,  0. ,  1. ,  0. ],\n",
       "       [ 1.5,  1.6,  2.7,  2.8,  2.9,  0. ,  0. ,  0. ,  0. ,  1. ]])"
      ]
     },
     "execution_count": 50,
     "metadata": {},
     "output_type": "execute_result"
    }
   ],
   "source": [
    "np.concatenate((a,b),1)"
   ]
  },
  {
   "cell_type": "code",
   "execution_count": 51,
   "metadata": {},
   "outputs": [
    {
     "data": {
      "text/plain": [
       "array([[ 0. ,  2. ,  3. ,  0. ,  2. ],\n",
       "       [ 4. ,  5. ,  6. ,  3. ,  4. ],\n",
       "       [ 0. ,  0. ,  2.1,  2.2,  2.3],\n",
       "       [ 0. ,  0. ,  2.4,  2.5,  2.6],\n",
       "       [ 1.5,  1.6,  2.7,  2.8,  2.9],\n",
       "       [ 1. ,  0. ,  0. ,  0. ,  0. ],\n",
       "       [ 0. ,  1. ,  0. ,  0. ,  0. ],\n",
       "       [ 0. ,  0. ,  1. ,  0. ,  0. ],\n",
       "       [ 0. ,  0. ,  0. ,  1. ,  0. ],\n",
       "       [ 0. ,  0. ,  0. ,  0. ,  1. ]])"
      ]
     },
     "execution_count": 51,
     "metadata": {},
     "output_type": "execute_result"
    }
   ],
   "source": [
    "np.concatenate((a,b))"
   ]
  },
  {
   "cell_type": "code",
   "execution_count": 52,
   "metadata": {},
   "outputs": [
    {
     "data": {
      "text/plain": [
       "6.0"
      ]
     },
     "execution_count": 52,
     "metadata": {},
     "output_type": "execute_result"
    }
   ],
   "source": [
    "a.max()"
   ]
  },
  {
   "cell_type": "code",
   "execution_count": 53,
   "metadata": {},
   "outputs": [
    {
     "data": {
      "text/plain": [
       "array([ 4.,  5.,  6.,  3.,  4.])"
      ]
     },
     "execution_count": 53,
     "metadata": {},
     "output_type": "execute_result"
    }
   ],
   "source": [
    "a.max(0)"
   ]
  },
  {
   "cell_type": "code",
   "execution_count": 54,
   "metadata": {},
   "outputs": [
    {
     "data": {
      "text/plain": [
       "array([ 3. ,  6. ,  2.3,  2.6,  2.9])"
      ]
     },
     "execution_count": 54,
     "metadata": {},
     "output_type": "execute_result"
    }
   ],
   "source": [
    "a.max(1)"
   ]
  },
  {
   "cell_type": "code",
   "execution_count": 55,
   "metadata": {},
   "outputs": [
    {
     "data": {
      "text/plain": [
       "array([[ 1. ,  2. ,  3. ,  0. ,  2. ],\n",
       "       [ 4. ,  5. ,  6. ,  3. ,  4. ],\n",
       "       [ 0. ,  0. ,  2.1,  2.2,  2.3],\n",
       "       [ 0. ,  0. ,  2.4,  2.5,  2.6],\n",
       "       [ 1.5,  1.6,  2.7,  2.8,  2.9]])"
      ]
     },
     "execution_count": 55,
     "metadata": {},
     "output_type": "execute_result"
    }
   ],
   "source": [
    "np.maximum(a, b)"
   ]
  },
  {
   "cell_type": "code",
   "execution_count": 56,
   "metadata": {},
   "outputs": [
    {
     "data": {
      "text/plain": [
       "array([[ 3.31662479,  3.63318042,  4.86826458,  4.2661458 ,  4.54972527],\n",
       "       [ 5.09901951,  6.27694193,  8.52056336,  6.84835747,  7.82304289],\n",
       "       [ 1.85741756,  1.91833261,  3.98748041,  4.06939799,  4.14969878],\n",
       "       [ 1.97484177,  2.03960781,  4.24970587,  4.33704969,  4.42266888],\n",
       "       [ 3.27871926,  3.95474399,  5.85832741,  5.08527285,  5.59464029]])"
      ]
     },
     "execution_count": 56,
     "metadata": {},
     "output_type": "execute_result"
    }
   ],
   "source": [
    "np.sqrt(np.dot(a,a))"
   ]
  },
  {
   "cell_type": "code",
   "execution_count": 57,
   "metadata": {},
   "outputs": [
    {
     "data": {
      "text/plain": [
       "array([[False, False, False, False, False],\n",
       "       [False,  True, False, False, False],\n",
       "       [False, False,  True, False, False],\n",
       "       [False, False, False,  True, False],\n",
       "       [False, False, False, False,  True]], dtype=bool)"
      ]
     },
     "execution_count": 57,
     "metadata": {},
     "output_type": "execute_result"
    }
   ],
   "source": [
    "np.logical_and(a,b)"
   ]
  },
  {
   "cell_type": "code",
   "execution_count": 58,
   "metadata": {},
   "outputs": [
    {
     "data": {
      "text/plain": [
       "array([[ True,  True,  True, False,  True],\n",
       "       [ True,  True,  True,  True,  True],\n",
       "       [False, False,  True,  True,  True],\n",
       "       [False, False,  True,  True,  True],\n",
       "       [ True,  True,  True,  True,  True]], dtype=bool)"
      ]
     },
     "execution_count": 58,
     "metadata": {},
     "output_type": "execute_result"
    }
   ],
   "source": [
    "np.logical_or(a,b)"
   ]
  },
  {
   "cell_type": "code",
   "execution_count": 59,
   "metadata": {},
   "outputs": [
    {
     "data": {
      "text/plain": [
       "array([[False, False, False, False, False],\n",
       "       [False,  True, False, False, False],\n",
       "       [False, False,  True, False, False],\n",
       "       [False, False, False,  True, False],\n",
       "       [False, False, False, False,  True]], dtype=bool)"
      ]
     },
     "execution_count": 59,
     "metadata": {},
     "output_type": "execute_result"
    }
   ],
   "source": [
    "(a>0) & (b>0)"
   ]
  },
  {
   "cell_type": "code",
   "execution_count": 60,
   "metadata": {},
   "outputs": [
    {
     "data": {
      "text/plain": [
       "array([[ True,  True,  True, False,  True],\n",
       "       [ True,  True,  True,  True,  True],\n",
       "       [False, False,  True,  True,  True],\n",
       "       [False, False,  True,  True,  True],\n",
       "       [ True,  True,  True,  True,  True]], dtype=bool)"
      ]
     },
     "execution_count": 60,
     "metadata": {},
     "output_type": "execute_result"
    }
   ],
   "source": [
    "(a>0) | (b>0)"
   ]
  },
  {
   "cell_type": "code",
   "execution_count": 61,
   "metadata": {},
   "outputs": [
    {
     "data": {
      "text/plain": [
       "array([[ -0.98461538,   1.23076923,  71.23076923, -61.23076923,\n",
       "         -2.61538462],\n",
       "       [  0.92307692,  -1.15384615, -66.15384615,  56.15384615,\n",
       "          3.07692308],\n",
       "       [ -0.16923077,   0.46153846,  -6.87179487,   6.87179487,\n",
       "         -1.23076923],\n",
       "       [  0.33846154,  -0.92307692, -72.92307692,  62.92307692,\n",
       "          2.46153846],\n",
       "       [ -0.16923077,   0.46153846,  76.46153846, -66.46153846,\n",
       "         -1.23076923]])"
      ]
     },
     "execution_count": 61,
     "metadata": {},
     "output_type": "execute_result"
    }
   ],
   "source": [
    "np.linalg.inv(a)"
   ]
  },
  {
   "cell_type": "code",
   "execution_count": 62,
   "metadata": {},
   "outputs": [
    {
     "data": {
      "text/plain": [
       "array([[ -0.98461538,   1.23076923,  71.23076923, -61.23076923,\n",
       "         -2.61538462],\n",
       "       [  0.92307692,  -1.15384615, -66.15384615,  56.15384615,\n",
       "          3.07692308],\n",
       "       [ -0.16923077,   0.46153846,  -6.87179487,   6.87179487,\n",
       "         -1.23076923],\n",
       "       [  0.33846154,  -0.92307692, -72.92307692,  62.92307692,\n",
       "          2.46153846],\n",
       "       [ -0.16923077,   0.46153846,  76.46153846, -66.46153846,\n",
       "         -1.23076923]])"
      ]
     },
     "execution_count": 62,
     "metadata": {},
     "output_type": "execute_result"
    }
   ],
   "source": [
    "np.linalg.pinv(a)"
   ]
  },
  {
   "cell_type": "code",
   "execution_count": 63,
   "metadata": {},
   "outputs": [
    {
     "data": {
      "text/plain": [
       "5"
      ]
     },
     "execution_count": 63,
     "metadata": {},
     "output_type": "execute_result"
    }
   ],
   "source": [
    "np.linalg.matrix_rank(a)"
   ]
  },
  {
   "cell_type": "code",
   "execution_count": 64,
   "metadata": {},
   "outputs": [
    {
     "data": {
      "text/plain": [
       "array([[ -0.98461538,   1.23076923,  71.23076923, -61.23076923,\n",
       "         -2.61538462],\n",
       "       [  0.92307692,  -1.15384615, -66.15384615,  56.15384615,\n",
       "          3.07692308],\n",
       "       [ -0.16923077,   0.46153846,  -6.87179487,   6.87179487,\n",
       "         -1.23076923],\n",
       "       [  0.33846154,  -0.92307692, -72.92307692,  62.92307692,\n",
       "          2.46153846],\n",
       "       [ -0.16923077,   0.46153846,  76.46153846, -66.46153846,\n",
       "         -1.23076923]])"
      ]
     },
     "execution_count": 64,
     "metadata": {},
     "output_type": "execute_result"
    }
   ],
   "source": [
    "np.linalg.solve(a,b)"
   ]
  },
  {
   "cell_type": "code",
   "execution_count": 65,
   "metadata": {},
   "outputs": [
    {
     "name": "stdout",
     "output_type": "stream",
     "text": [
      "[[-0.28390596 -0.14797044  0.91311559  0.25235783  0.0061315 ]\n",
      " [-0.77865013 -0.4834259  -0.22995655 -0.32715509 -0.00963846]\n",
      " [-0.25333333  0.54633775  0.08087488 -0.23888625 -0.75744961]\n",
      " [-0.2880173   0.61944031  0.09342736 -0.31471525  0.65235373]\n",
      " [-0.40739371  0.24942518 -0.31316207  0.82047105  0.02396278]]\n",
      "---------------------------------------\n",
      "[  1.27506248e+01   3.69250608e+00   2.07446154e+00   3.78878074e-01\n",
      "   5.26959290e-03]\n",
      "---------------------------------------\n",
      "[[-0.29219675 -0.42235972 -0.66984578 -0.20564343 -0.49522796]\n",
      " [-0.40099153 -0.62667197  0.08454681  0.47955768  0.45756343]\n",
      " [-0.61540696 -0.01003457  0.43776795 -0.65341057  0.05086686]\n",
      " [-0.37284678  0.54127375 -0.55688202  0.00927948  0.50774434]\n",
      " [-0.48588724  0.36853295  0.20591286  0.54836459 -0.53384756]]\n"
     ]
    }
   ],
   "source": [
    "U, S, Vh = np.linalg.svd(a)\n",
    "V = Vh.T\n",
    "print U\n",
    "print '---------------------------------------'\n",
    "print S\n",
    "print '---------------------------------------'\n",
    "print V"
   ]
  },
  {
   "cell_type": "code",
   "execution_count": 66,
   "metadata": {},
   "outputs": [
    {
     "data": {
      "text/plain": [
       "array([[ 1.,  0.,  0.,  0.,  0.],\n",
       "       [ 0.,  1.,  0.,  0.,  0.],\n",
       "       [ 0.,  0.,  1.,  0.,  0.],\n",
       "       [ 0.,  0.,  0.,  1.,  0.],\n",
       "       [ 0.,  0.,  0.,  0.,  1.]])"
      ]
     },
     "execution_count": 66,
     "metadata": {},
     "output_type": "execute_result"
    }
   ],
   "source": [
    "np.linalg.cholesky(np.eye(5)).T"
   ]
  },
  {
   "cell_type": "code",
   "execution_count": 67,
   "metadata": {},
   "outputs": [
    {
     "name": "stdout",
     "output_type": "stream",
     "text": [
      "[ 10.03392042   3.69674136  -1.42608758   0.17427296   0.02115284]\n",
      "---------------------------------------\n",
      "[[ 0.29261029  0.28643223 -0.82949377 -0.35346671 -0.48223986]\n",
      " [ 0.84071901  0.84575338  0.50314793  0.18903491  0.4323202 ]\n",
      " [ 0.16232886 -0.28695168 -0.08123176  0.33267995  0.08251115]\n",
      " [ 0.18416362 -0.32756086 -0.08952246  0.46032499  0.50872851]\n",
      " [ 0.38380186  0.11410708  0.2101651  -0.71885468 -0.5611873 ]]\n"
     ]
    }
   ],
   "source": [
    "D,V = np.linalg.eig(a)\n",
    "print D\n",
    "print '---------------------------------------'\n",
    "print V"
   ]
  },
  {
   "cell_type": "code",
   "execution_count": 68,
   "metadata": {},
   "outputs": [
    {
     "name": "stdout",
     "output_type": "stream",
     "text": [
      "[[ 0.          0.99181395 -0.03110536  0.12383355  0.0016703 ]\n",
      " [-0.93632918  0.04483543  0.0848328  -0.33772785 -0.00455536]\n",
      " [-0.          0.         -0.638668   -0.15024579 -0.75467171]\n",
      " [-0.          0.         -0.72990629 -0.19219079  0.65597219]\n",
      " [-0.35112344 -0.11956113 -0.22622079  0.9006076   0.01214763]]\n",
      "---------------------------------------\n",
      "[[-4.27200187 -5.24344339 -6.56600836 -3.79213317 -4.76357469]\n",
      " [ 0.          2.01650722  2.92163935 -0.2002649   1.81624232]\n",
      " [ 0.          0.         -3.28809333 -3.60875515 -3.74561258]\n",
      " [ 0.          0.          0.          0.69750002  0.66325636]\n",
      " [ 0.          0.          0.          0.         -0.00986995]]\n"
     ]
    }
   ],
   "source": [
    "Q,R = scipy.linalg.qr(a)\n",
    "print Q\n",
    "print '---------------------------------------'\n",
    "print R"
   ]
  },
  {
   "cell_type": "code",
   "execution_count": 69,
   "metadata": {},
   "outputs": [
    {
     "name": "stdout",
     "output_type": "stream",
     "text": [
      "[[ 4.          5.          6.          3.          4.        ]\n",
      " [ 0.          2.          3.          0.          2.        ]\n",
      " [ 0.          0.          2.4         2.5         2.6       ]\n",
      " [ 0.375      -0.1375      0.359375    0.7765625   0.740625  ]\n",
      " [ 0.          0.          0.875       0.01609658  0.01307847]]\n",
      "---------------------------------------\n",
      "[1 1 3 4 4]\n"
     ]
    }
   ],
   "source": [
    "LU,P=scipy.linalg.lu_factor(a)\n",
    "print LU\n",
    "print '---------------------------------------'\n",
    "print P"
   ]
  },
  {
   "cell_type": "code",
   "execution_count": 70,
   "metadata": {},
   "outputs": [
    {
     "data": {
      "text/plain": [
       "array([[  7.00000000+0.j        ,  -1.19098301-1.76335576j,\n",
       "         -2.30901699+2.85316955j,  -2.30901699-2.85316955j,\n",
       "         -1.19098301+1.76335576j],\n",
       "       [ 22.00000000+0.j        ,  -0.50000000-2.71441227j,\n",
       "         -0.50000000+2.2653843j ,  -0.50000000-2.2653843j ,\n",
       "         -0.50000000+2.71441227j],\n",
       "       [  6.60000000+0.j        ,  -2.76803399+2.24620851j,\n",
       "         -0.53196601+1.25680043j,  -0.53196601-1.25680043j,\n",
       "         -2.76803399-2.24620851j],\n",
       "       [  7.50000000+0.j        ,  -3.16073909+2.53152547j,\n",
       "         -0.58926091+1.433136j  ,  -0.58926091-1.433136j  ,\n",
       "         -3.16073909-2.53152547j],\n",
       "       [ 11.50000000+0.j        ,  -1.55901699+1.295152j  ,\n",
       "         -0.44098301+0.66901518j,  -0.44098301-0.66901518j,\n",
       "         -1.55901699-1.295152j  ]])"
      ]
     },
     "execution_count": 70,
     "metadata": {},
     "output_type": "execute_result"
    }
   ],
   "source": [
    "scipy.fft(a)"
   ]
  },
  {
   "cell_type": "code",
   "execution_count": 71,
   "metadata": {},
   "outputs": [
    {
     "data": {
      "text/plain": [
       "array([[ 1.40000000+0.j        , -0.23819660+0.35267115j,\n",
       "        -0.46180340-0.57063391j, -0.46180340+0.57063391j,\n",
       "        -0.23819660-0.35267115j],\n",
       "       [ 4.40000000+0.j        , -0.10000000+0.54288245j,\n",
       "        -0.10000000-0.45307686j, -0.10000000+0.45307686j,\n",
       "        -0.10000000-0.54288245j],\n",
       "       [ 1.32000000+0.j        , -0.55360680-0.4492417j ,\n",
       "        -0.10639320-0.25136009j, -0.10639320+0.25136009j,\n",
       "        -0.55360680+0.4492417j ],\n",
       "       [ 1.50000000+0.j        , -0.63214782-0.50630509j,\n",
       "        -0.11785218-0.2866272j , -0.11785218+0.2866272j ,\n",
       "        -0.63214782+0.50630509j],\n",
       "       [ 2.30000000+0.j        , -0.31180340-0.2590304j ,\n",
       "        -0.08819660-0.13380304j, -0.08819660+0.13380304j,\n",
       "        -0.31180340+0.2590304j ]])"
      ]
     },
     "execution_count": 71,
     "metadata": {},
     "output_type": "execute_result"
    }
   ],
   "source": [
    "scipy.ifft(a)"
   ]
  },
  {
   "cell_type": "code",
   "execution_count": 72,
   "metadata": {},
   "outputs": [
    {
     "name": "stdout",
     "output_type": "stream",
     "text": [
      "[[ 0.   0.   2.   2.   3. ]\n",
      " [ 3.   4.   4.   5.   6. ]\n",
      " [ 0.   0.   2.1  2.2  2.3]\n",
      " [ 0.   0.   2.4  2.5  2.6]\n",
      " [ 1.5  1.6  2.7  2.8  2.9]]\n"
     ]
    }
   ],
   "source": [
    "a.sort()\n",
    "print a"
   ]
  },
  {
   "cell_type": "code",
   "execution_count": 73,
   "metadata": {},
   "outputs": [
    {
     "name": "stdout",
     "output_type": "stream",
     "text": [
      "[[ 0.   0.   2.   2.   3. ]\n",
      " [ 0.   0.   2.1  2.2  2.3]\n",
      " [ 0.   0.   2.4  2.5  2.6]\n",
      " [ 1.5  1.6  2.7  2.8  2.9]\n",
      " [ 3.   4.   4.   5.   6. ]]\n"
     ]
    }
   ],
   "source": [
    "I = np.argsort(a[:,1])\n",
    "b=a[I,:]\n",
    "print b"
   ]
  },
  {
   "cell_type": "code",
   "execution_count": 74,
   "metadata": {},
   "outputs": [
    {
     "data": {
      "text/plain": [
       "(array([[  3.00646474e-14,  -1.33333333e+00,   9.22222222e+01,\n",
       "          -8.22222222e+01,   3.33333333e+00],\n",
       "        [ -2.73543804e-14,   1.25000000e+00,  -8.58333333e+01,\n",
       "           7.58333333e+01,  -2.50000000e+00],\n",
       "        [  1.00000000e+00,   1.33048684e-14,  -7.66666667e+01,\n",
       "           6.66666667e+01,  -4.09130717e-14],\n",
       "        [ -2.00000000e+00,  -1.14491940e-14,   6.66666667e+01,\n",
       "          -5.66666667e+01,   3.37841534e-14],\n",
       "        [  1.00000000e+00,  -1.75780868e-15,   6.66666667e+00,\n",
       "          -6.66666667e+00,   5.17356933e-15]]),\n",
       " array([], dtype=float64),\n",
       " 5,\n",
       " array([  1.30774107e+01,   3.00208487e+00,   7.47592536e-01,\n",
       "          2.64384156e-01,   4.63935270e-03]))"
      ]
     },
     "execution_count": 74,
     "metadata": {},
     "output_type": "execute_result"
    }
   ],
   "source": [
    "np.linalg.lstsq(a,np.eye(5))"
   ]
  },
  {
   "cell_type": "code",
   "execution_count": 75,
   "metadata": {},
   "outputs": [
    {
     "data": {
      "text/plain": [
       "array([ 0. ,  1.5,  1.6,  2. ,  2.1,  2.2,  2.3,  2.4,  2.5,  2.6,  2.7,\n",
       "        2.8,  2.9,  3. ,  4. ,  5. ,  6. ])"
      ]
     },
     "execution_count": 75,
     "metadata": {},
     "output_type": "execute_result"
    }
   ],
   "source": [
    "np.unique(a)"
   ]
  },
  {
   "cell_type": "code",
   "execution_count": 76,
   "metadata": {},
   "outputs": [
    {
     "data": {
      "text/plain": [
       "array([[ 0. ,  0. ,  2. ,  2. ,  3. ],\n",
       "       [ 3. ,  4. ,  4. ,  5. ,  6. ],\n",
       "       [ 0. ,  0. ,  2.1,  2.2,  2.3],\n",
       "       [ 0. ,  0. ,  2.4,  2.5,  2.6],\n",
       "       [ 1.5,  1.6,  2.7,  2.8,  2.9]])"
      ]
     },
     "execution_count": 76,
     "metadata": {},
     "output_type": "execute_result"
    }
   ],
   "source": [
    "a.squeeze()"
   ]
  },
  {
   "cell_type": "code",
   "execution_count": null,
   "metadata": {
    "collapsed": true
   },
   "outputs": [],
   "source": []
  }
 ],
 "metadata": {
  "kernelspec": {
   "display_name": "Python 2",
   "language": "python",
   "name": "python2"
  },
  "language_info": {
   "codemirror_mode": {
    "name": "ipython",
    "version": 2
   },
   "file_extension": ".py",
   "mimetype": "text/x-python",
   "name": "python",
   "nbconvert_exporter": "python",
   "pygments_lexer": "ipython2",
   "version": "2.7.13"
  }
 },
 "nbformat": 4,
 "nbformat_minor": 2
}
